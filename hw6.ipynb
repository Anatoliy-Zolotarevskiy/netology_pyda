{
 "cells": [
  {
   "cell_type": "markdown",
   "metadata": {},
   "source": [
    "Домашнее задание по теме «Основы Pandas»\n",
    "## Задание 1\n",
    "Скачайте с сайта https://grouplens.org/datasets/movielens/ датасет любого размера. Определите какому фильму было выставлено больше всего оценок 5.0."
   ]
  },
  {
   "cell_type": "code",
   "execution_count": 79,
   "metadata": {},
   "outputs": [],
   "source": [
    "import pandas as pd"
   ]
  },
  {
   "cell_type": "code",
   "execution_count": 27,
   "metadata": {},
   "outputs": [],
   "source": [
    "data = pd.read_csv('C:/Users/User/Desktop/gitKraken/netology_pyda/ml-20m/ratings.csv')"
   ]
  },
  {
   "cell_type": "code",
   "execution_count": 28,
   "metadata": {},
   "outputs": [
    {
     "data": {
      "text/html": [
       "<div>\n",
       "<style scoped>\n",
       "    .dataframe tbody tr th:only-of-type {\n",
       "        vertical-align: middle;\n",
       "    }\n",
       "\n",
       "    .dataframe tbody tr th {\n",
       "        vertical-align: top;\n",
       "    }\n",
       "\n",
       "    .dataframe thead th {\n",
       "        text-align: right;\n",
       "    }\n",
       "</style>\n",
       "<table border=\"1\" class=\"dataframe\">\n",
       "  <thead>\n",
       "    <tr style=\"text-align: right;\">\n",
       "      <th></th>\n",
       "      <th>userId</th>\n",
       "      <th>movieId</th>\n",
       "      <th>rating</th>\n",
       "      <th>timestamp</th>\n",
       "    </tr>\n",
       "  </thead>\n",
       "  <tbody>\n",
       "    <tr>\n",
       "      <th>0</th>\n",
       "      <td>1</td>\n",
       "      <td>2</td>\n",
       "      <td>3.5</td>\n",
       "      <td>1112486027</td>\n",
       "    </tr>\n",
       "    <tr>\n",
       "      <th>1</th>\n",
       "      <td>1</td>\n",
       "      <td>29</td>\n",
       "      <td>3.5</td>\n",
       "      <td>1112484676</td>\n",
       "    </tr>\n",
       "    <tr>\n",
       "      <th>2</th>\n",
       "      <td>1</td>\n",
       "      <td>32</td>\n",
       "      <td>3.5</td>\n",
       "      <td>1112484819</td>\n",
       "    </tr>\n",
       "    <tr>\n",
       "      <th>3</th>\n",
       "      <td>1</td>\n",
       "      <td>47</td>\n",
       "      <td>3.5</td>\n",
       "      <td>1112484727</td>\n",
       "    </tr>\n",
       "    <tr>\n",
       "      <th>4</th>\n",
       "      <td>1</td>\n",
       "      <td>50</td>\n",
       "      <td>3.5</td>\n",
       "      <td>1112484580</td>\n",
       "    </tr>\n",
       "  </tbody>\n",
       "</table>\n",
       "</div>"
      ],
      "text/plain": [
       "   userId  movieId  rating   timestamp\n",
       "0       1        2     3.5  1112486027\n",
       "1       1       29     3.5  1112484676\n",
       "2       1       32     3.5  1112484819\n",
       "3       1       47     3.5  1112484727\n",
       "4       1       50     3.5  1112484580"
      ]
     },
     "execution_count": 28,
     "metadata": {},
     "output_type": "execute_result"
    }
   ],
   "source": [
    "data.head()"
   ]
  },
  {
   "cell_type": "code",
   "execution_count": 35,
   "metadata": {},
   "outputs": [],
   "source": [
    "data_sort= data[(data['rating']==5)]\n",
    "    "
   ]
  },
  {
   "cell_type": "code",
   "execution_count": 36,
   "metadata": {},
   "outputs": [
    {
     "data": {
      "text/html": [
       "<div>\n",
       "<style scoped>\n",
       "    .dataframe tbody tr th:only-of-type {\n",
       "        vertical-align: middle;\n",
       "    }\n",
       "\n",
       "    .dataframe tbody tr th {\n",
       "        vertical-align: top;\n",
       "    }\n",
       "\n",
       "    .dataframe thead th {\n",
       "        text-align: right;\n",
       "    }\n",
       "</style>\n",
       "<table border=\"1\" class=\"dataframe\">\n",
       "  <thead>\n",
       "    <tr style=\"text-align: right;\">\n",
       "      <th></th>\n",
       "      <th>userId</th>\n",
       "      <th>movieId</th>\n",
       "      <th>rating</th>\n",
       "      <th>timestamp</th>\n",
       "    </tr>\n",
       "  </thead>\n",
       "  <tbody>\n",
       "    <tr>\n",
       "      <th>131</th>\n",
       "      <td>1</td>\n",
       "      <td>4993</td>\n",
       "      <td>5.0</td>\n",
       "      <td>1112484682</td>\n",
       "    </tr>\n",
       "    <tr>\n",
       "      <th>142</th>\n",
       "      <td>1</td>\n",
       "      <td>5952</td>\n",
       "      <td>5.0</td>\n",
       "      <td>1112484619</td>\n",
       "    </tr>\n",
       "    <tr>\n",
       "      <th>158</th>\n",
       "      <td>1</td>\n",
       "      <td>7153</td>\n",
       "      <td>5.0</td>\n",
       "      <td>1112484633</td>\n",
       "    </tr>\n",
       "    <tr>\n",
       "      <th>170</th>\n",
       "      <td>1</td>\n",
       "      <td>8507</td>\n",
       "      <td>5.0</td>\n",
       "      <td>1094786027</td>\n",
       "    </tr>\n",
       "    <tr>\n",
       "      <th>176</th>\n",
       "      <td>2</td>\n",
       "      <td>62</td>\n",
       "      <td>5.0</td>\n",
       "      <td>974820598</td>\n",
       "    </tr>\n",
       "  </tbody>\n",
       "</table>\n",
       "</div>"
      ],
      "text/plain": [
       "     userId  movieId  rating   timestamp\n",
       "131       1     4993     5.0  1112484682\n",
       "142       1     5952     5.0  1112484619\n",
       "158       1     7153     5.0  1112484633\n",
       "170       1     8507     5.0  1094786027\n",
       "176       2       62     5.0   974820598"
      ]
     },
     "execution_count": 36,
     "metadata": {},
     "output_type": "execute_result"
    }
   ],
   "source": [
    "data_sort.head()"
   ]
  },
  {
   "cell_type": "code",
   "execution_count": 56,
   "metadata": {},
   "outputs": [
    {
     "data": {
      "text/plain": [
       "296    67310\n",
       "Name: movieId, dtype: int64"
      ]
     },
     "execution_count": 56,
     "metadata": {},
     "output_type": "execute_result"
    }
   ],
   "source": [
    "data['movieId'].value_counts().head(1)"
   ]
  },
  {
   "cell_type": "code",
   "execution_count": 54,
   "metadata": {},
   "outputs": [],
   "source": [
    "data_mov = pd.read_csv('C:/Users/User/Desktop/gitKraken/netology_pyda/ml-20m/movies.csv')"
   ]
  },
  {
   "cell_type": "code",
   "execution_count": 55,
   "metadata": {},
   "outputs": [
    {
     "data": {
      "text/html": [
       "<div>\n",
       "<style scoped>\n",
       "    .dataframe tbody tr th:only-of-type {\n",
       "        vertical-align: middle;\n",
       "    }\n",
       "\n",
       "    .dataframe tbody tr th {\n",
       "        vertical-align: top;\n",
       "    }\n",
       "\n",
       "    .dataframe thead th {\n",
       "        text-align: right;\n",
       "    }\n",
       "</style>\n",
       "<table border=\"1\" class=\"dataframe\">\n",
       "  <thead>\n",
       "    <tr style=\"text-align: right;\">\n",
       "      <th></th>\n",
       "      <th>movieId</th>\n",
       "      <th>title</th>\n",
       "      <th>genres</th>\n",
       "    </tr>\n",
       "  </thead>\n",
       "  <tbody>\n",
       "    <tr>\n",
       "      <th>0</th>\n",
       "      <td>1</td>\n",
       "      <td>Toy Story (1995)</td>\n",
       "      <td>Adventure|Animation|Children|Comedy|Fantasy</td>\n",
       "    </tr>\n",
       "    <tr>\n",
       "      <th>1</th>\n",
       "      <td>2</td>\n",
       "      <td>Jumanji (1995)</td>\n",
       "      <td>Adventure|Children|Fantasy</td>\n",
       "    </tr>\n",
       "    <tr>\n",
       "      <th>2</th>\n",
       "      <td>3</td>\n",
       "      <td>Grumpier Old Men (1995)</td>\n",
       "      <td>Comedy|Romance</td>\n",
       "    </tr>\n",
       "    <tr>\n",
       "      <th>3</th>\n",
       "      <td>4</td>\n",
       "      <td>Waiting to Exhale (1995)</td>\n",
       "      <td>Comedy|Drama|Romance</td>\n",
       "    </tr>\n",
       "    <tr>\n",
       "      <th>4</th>\n",
       "      <td>5</td>\n",
       "      <td>Father of the Bride Part II (1995)</td>\n",
       "      <td>Comedy</td>\n",
       "    </tr>\n",
       "  </tbody>\n",
       "</table>\n",
       "</div>"
      ],
      "text/plain": [
       "   movieId                               title  \\\n",
       "0        1                    Toy Story (1995)   \n",
       "1        2                      Jumanji (1995)   \n",
       "2        3             Grumpier Old Men (1995)   \n",
       "3        4            Waiting to Exhale (1995)   \n",
       "4        5  Father of the Bride Part II (1995)   \n",
       "\n",
       "                                        genres  \n",
       "0  Adventure|Animation|Children|Comedy|Fantasy  \n",
       "1                   Adventure|Children|Fantasy  \n",
       "2                               Comedy|Romance  \n",
       "3                         Comedy|Drama|Romance  \n",
       "4                                       Comedy  "
      ]
     },
     "execution_count": 55,
     "metadata": {},
     "output_type": "execute_result"
    }
   ],
   "source": [
    "data_mov.head()"
   ]
  },
  {
   "cell_type": "code",
   "execution_count": 59,
   "metadata": {},
   "outputs": [
    {
     "data": {
      "text/html": [
       "<div>\n",
       "<style scoped>\n",
       "    .dataframe tbody tr th:only-of-type {\n",
       "        vertical-align: middle;\n",
       "    }\n",
       "\n",
       "    .dataframe tbody tr th {\n",
       "        vertical-align: top;\n",
       "    }\n",
       "\n",
       "    .dataframe thead th {\n",
       "        text-align: right;\n",
       "    }\n",
       "</style>\n",
       "<table border=\"1\" class=\"dataframe\">\n",
       "  <thead>\n",
       "    <tr style=\"text-align: right;\">\n",
       "      <th></th>\n",
       "      <th>movieId</th>\n",
       "      <th>title</th>\n",
       "      <th>genres</th>\n",
       "    </tr>\n",
       "  </thead>\n",
       "  <tbody>\n",
       "    <tr>\n",
       "      <th>293</th>\n",
       "      <td>296</td>\n",
       "      <td>Pulp Fiction (1994)</td>\n",
       "      <td>Comedy|Crime|Drama|Thriller</td>\n",
       "    </tr>\n",
       "  </tbody>\n",
       "</table>\n",
       "</div>"
      ],
      "text/plain": [
       "     movieId                title                       genres\n",
       "293      296  Pulp Fiction (1994)  Comedy|Crime|Drama|Thriller"
      ]
     },
     "execution_count": 59,
     "metadata": {},
     "output_type": "execute_result"
    }
   ],
   "source": [
    "data_mov[(data_mov['movieId']==296)]"
   ]
  },
  {
   "cell_type": "markdown",
   "metadata": {},
   "source": [
    "## Задание 2\n",
    "По данным файла power.csv посчитайте суммарное потребление стран Прибалтики (Латвия, Литва и Эстония) категорий 4, 12 и 21 за период с 2005 по 2010 года. Не учитывайте в расчетах отрицательные значения quantity."
   ]
  },
  {
   "cell_type": "code",
   "execution_count": 3,
   "metadata": {},
   "outputs": [],
   "source": [
    "power = pd.read_csv('C:/Users/User/Desktop/gitKraken/Python_6_pandas_basics/power.csv')"
   ]
  },
  {
   "cell_type": "code",
   "execution_count": 4,
   "metadata": {},
   "outputs": [
    {
     "data": {
      "text/html": [
       "<div>\n",
       "<style scoped>\n",
       "    .dataframe tbody tr th:only-of-type {\n",
       "        vertical-align: middle;\n",
       "    }\n",
       "\n",
       "    .dataframe tbody tr th {\n",
       "        vertical-align: top;\n",
       "    }\n",
       "\n",
       "    .dataframe thead th {\n",
       "        text-align: right;\n",
       "    }\n",
       "</style>\n",
       "<table border=\"1\" class=\"dataframe\">\n",
       "  <thead>\n",
       "    <tr style=\"text-align: right;\">\n",
       "      <th></th>\n",
       "      <th>country</th>\n",
       "      <th>year</th>\n",
       "      <th>quantity</th>\n",
       "      <th>category</th>\n",
       "    </tr>\n",
       "  </thead>\n",
       "  <tbody>\n",
       "    <tr>\n",
       "      <th>0</th>\n",
       "      <td>Austria</td>\n",
       "      <td>1996</td>\n",
       "      <td>5.0</td>\n",
       "      <td>1</td>\n",
       "    </tr>\n",
       "    <tr>\n",
       "      <th>1</th>\n",
       "      <td>Austria</td>\n",
       "      <td>1995</td>\n",
       "      <td>17.0</td>\n",
       "      <td>1</td>\n",
       "    </tr>\n",
       "    <tr>\n",
       "      <th>2</th>\n",
       "      <td>Belgium</td>\n",
       "      <td>2014</td>\n",
       "      <td>0.0</td>\n",
       "      <td>1</td>\n",
       "    </tr>\n",
       "    <tr>\n",
       "      <th>3</th>\n",
       "      <td>Belgium</td>\n",
       "      <td>2013</td>\n",
       "      <td>0.0</td>\n",
       "      <td>1</td>\n",
       "    </tr>\n",
       "    <tr>\n",
       "      <th>4</th>\n",
       "      <td>Belgium</td>\n",
       "      <td>2012</td>\n",
       "      <td>35.0</td>\n",
       "      <td>1</td>\n",
       "    </tr>\n",
       "  </tbody>\n",
       "</table>\n",
       "</div>"
      ],
      "text/plain": [
       "   country  year  quantity  category\n",
       "0  Austria  1996       5.0         1\n",
       "1  Austria  1995      17.0         1\n",
       "2  Belgium  2014       0.0         1\n",
       "3  Belgium  2013       0.0         1\n",
       "4  Belgium  2012      35.0         1"
      ]
     },
     "execution_count": 4,
     "metadata": {},
     "output_type": "execute_result"
    }
   ],
   "source": [
    "power.head()"
   ]
  },
  {
   "cell_type": "code",
   "execution_count": 5,
   "metadata": {},
   "outputs": [
    {
     "data": {
      "text/plain": [
       "array(['Estonia', 'State of Palestine', 'Timor-Leste'], dtype=object)"
      ]
     },
     "execution_count": 5,
     "metadata": {},
     "output_type": "execute_result"
    }
   ],
   "source": [
    "power[power['country'].str.contains('est', case=False) ]['country'].unique()"
   ]
  },
  {
   "cell_type": "code",
   "execution_count": 70,
   "metadata": {},
   "outputs": [],
   "source": [
    "filtered_power=power[ ((power['country']=='Lithuania') | (power['country']=='Latvia') |(power['country']=='Estonia')) \n",
    "                     & ((power['category']==4)|(power['category']==12)|(power['category']==21)) \n",
    "                     & (power['year']>=2005) & (power['year']<=2010)]\n",
    "                       "
   ]
  },
  {
   "cell_type": "code",
   "execution_count": 75,
   "metadata": {},
   "outputs": [
    {
     "data": {
      "text/html": [
       "<div>\n",
       "<style scoped>\n",
       "    .dataframe tbody tr th:only-of-type {\n",
       "        vertical-align: middle;\n",
       "    }\n",
       "\n",
       "    .dataframe tbody tr th {\n",
       "        vertical-align: top;\n",
       "    }\n",
       "\n",
       "    .dataframe thead th {\n",
       "        text-align: right;\n",
       "    }\n",
       "</style>\n",
       "<table border=\"1\" class=\"dataframe\">\n",
       "  <thead>\n",
       "    <tr style=\"text-align: right;\">\n",
       "      <th></th>\n",
       "      <th>country</th>\n",
       "      <th>year</th>\n",
       "      <th>quantity</th>\n",
       "      <th>category</th>\n",
       "    </tr>\n",
       "  </thead>\n",
       "  <tbody>\n",
       "    <tr>\n",
       "      <th>10617</th>\n",
       "      <td>Estonia</td>\n",
       "      <td>2008</td>\n",
       "      <td>1.0</td>\n",
       "      <td>4</td>\n",
       "    </tr>\n",
       "    <tr>\n",
       "      <th>10618</th>\n",
       "      <td>Estonia</td>\n",
       "      <td>2007</td>\n",
       "      <td>0.0</td>\n",
       "      <td>4</td>\n",
       "    </tr>\n",
       "    <tr>\n",
       "      <th>10619</th>\n",
       "      <td>Estonia</td>\n",
       "      <td>2006</td>\n",
       "      <td>0.0</td>\n",
       "      <td>4</td>\n",
       "    </tr>\n",
       "    <tr>\n",
       "      <th>10620</th>\n",
       "      <td>Estonia</td>\n",
       "      <td>2005</td>\n",
       "      <td>1.0</td>\n",
       "      <td>4</td>\n",
       "    </tr>\n",
       "    <tr>\n",
       "      <th>11156</th>\n",
       "      <td>Lithuania</td>\n",
       "      <td>2008</td>\n",
       "      <td>1.0</td>\n",
       "      <td>4</td>\n",
       "    </tr>\n",
       "  </tbody>\n",
       "</table>\n",
       "</div>"
      ],
      "text/plain": [
       "         country  year  quantity  category\n",
       "10617    Estonia  2008       1.0         4\n",
       "10618    Estonia  2007       0.0         4\n",
       "10619    Estonia  2006       0.0         4\n",
       "10620    Estonia  2005       1.0         4\n",
       "11156  Lithuania  2008       1.0         4"
      ]
     },
     "execution_count": 75,
     "metadata": {},
     "output_type": "execute_result"
    }
   ],
   "source": [
    "filtered_power.head(5)"
   ]
  },
  {
   "cell_type": "code",
   "execution_count": 86,
   "metadata": {},
   "outputs": [
    {
     "data": {
      "text/html": [
       "<div>\n",
       "<style scoped>\n",
       "    .dataframe tbody tr th:only-of-type {\n",
       "        vertical-align: middle;\n",
       "    }\n",
       "\n",
       "    .dataframe tbody tr th {\n",
       "        vertical-align: top;\n",
       "    }\n",
       "\n",
       "    .dataframe thead th {\n",
       "        text-align: right;\n",
       "    }\n",
       "</style>\n",
       "<table border=\"1\" class=\"dataframe\">\n",
       "  <thead>\n",
       "    <tr style=\"text-align: right;\">\n",
       "      <th></th>\n",
       "      <th>country</th>\n",
       "      <th>year</th>\n",
       "      <th>quantity</th>\n",
       "      <th>category</th>\n",
       "    </tr>\n",
       "  </thead>\n",
       "  <tbody>\n",
       "    <tr>\n",
       "      <th>253982</th>\n",
       "      <td>Lithuania</td>\n",
       "      <td>2009</td>\n",
       "      <td>98.0</td>\n",
       "      <td>21</td>\n",
       "    </tr>\n",
       "    <tr>\n",
       "      <th>253983</th>\n",
       "      <td>Lithuania</td>\n",
       "      <td>2008</td>\n",
       "      <td>54.0</td>\n",
       "      <td>21</td>\n",
       "    </tr>\n",
       "    <tr>\n",
       "      <th>253984</th>\n",
       "      <td>Lithuania</td>\n",
       "      <td>2007</td>\n",
       "      <td>47.0</td>\n",
       "      <td>21</td>\n",
       "    </tr>\n",
       "    <tr>\n",
       "      <th>253985</th>\n",
       "      <td>Lithuania</td>\n",
       "      <td>2006</td>\n",
       "      <td>31.0</td>\n",
       "      <td>21</td>\n",
       "    </tr>\n",
       "    <tr>\n",
       "      <th>253986</th>\n",
       "      <td>Lithuania</td>\n",
       "      <td>2005</td>\n",
       "      <td>1.0</td>\n",
       "      <td>21</td>\n",
       "    </tr>\n",
       "  </tbody>\n",
       "</table>\n",
       "</div>"
      ],
      "text/plain": [
       "          country  year  quantity  category\n",
       "253982  Lithuania  2009      98.0        21\n",
       "253983  Lithuania  2008      54.0        21\n",
       "253984  Lithuania  2007      47.0        21\n",
       "253985  Lithuania  2006      31.0        21\n",
       "253986  Lithuania  2005       1.0        21"
      ]
     },
     "execution_count": 86,
     "metadata": {},
     "output_type": "execute_result"
    }
   ],
   "source": [
    "filtered_power.tail()"
   ]
  },
  {
   "cell_type": "code",
   "execution_count": null,
   "metadata": {},
   "outputs": [],
   "source": []
  },
  {
   "cell_type": "markdown",
   "metadata": {},
   "source": [
    "## Задание 3\n",
    "Выберите страницу любого сайта с табличными данными. Импортируйте таблицы в pandas dataframe.\n",
    "Примеры страниц (необязательно брать именно эти):\n",
    "https://fortrader.org/quotes\n",
    "https://www.finanz.ru/valyuty/v-realnom-vremeni"
   ]
  },
  {
   "cell_type": "code",
   "execution_count": 104,
   "metadata": {},
   "outputs": [
    {
     "data": {
      "text/plain": [
       "[              0   1\n",
       " 0  Отправление: NaN,     0  1        2\n",
       " 0 NaN  /  Вылет /,    Unnamed: 0_level_0  Дата и время                \\\n",
       "    Unnamed: 0_level_1    Плановое ▲   Фактическое   \n",
       " 0        ▲13:00▼14:00  28 авг 13:00  28 авг 12:42   \n",
       " 1        ▲13:00▼14:00  28 авг 13:05  28 авг 12:45   \n",
       " 2        ▲13:00▼14:00  28 авг 13:15  28 авг 13:02   \n",
       " 3        ▲13:00▼14:00  28 авг 13:20  28 авг 13:22   \n",
       " 4        ▲13:00▼14:00  28 авг 13:35  28 авг 13:35   \n",
       " 5        ▲13:00▼14:00  28 авг 13:40  28 авг 13:54   \n",
       " 6        ▲13:00▼14:00  28 авг 13:40  28 авг 13:35   \n",
       " 7        ▲13:00▼14:00  28 авг 13:45  28 авг 13:42   \n",
       " 8        ▲13:00▼14:00  28 авг 13:45  28 авг 13:51   \n",
       " 9        ▲13:00▼14:00  28 авг 13:45  28 авг 13:39   \n",
       " 10       ▲13:00▼14:00  28 авг 13:50  28 авг 14:00   \n",
       " 11       ▲13:00▼14:00  28 авг 13:50  28 авг 13:30   \n",
       " 12       ▲13:00▼14:00  28 авг 13:55  28 авг 14:53   \n",
       " 13       ▲13:00▼14:00  28 авг 13:55  28 авг 13:49   \n",
       " 14              14:00  28 авг 14:00  28 авг 13:56   \n",
       " 15       ▲14:00▼15:00  28 авг 14:05  28 авг 14:10   \n",
       " 16       ▲14:00▼15:00  28 авг 14:15  28 авг 14:04   \n",
       " 17       ▲14:00▼15:00  28 авг 14:25  28 авг 14:38   \n",
       " 18       ▲14:00▼15:00  28 авг 14:30  28 авг 14:54   \n",
       " 19       ▲14:00▼15:00  28 авг 14:40  28 авг 14:20   \n",
       " 20       ▲14:00▼15:00  28 авг 14:45           NaN   \n",
       " 21       ▲14:00▼15:00  28 авг 14:50  28 авг 15:23   \n",
       " 22       ▲14:00▼15:00  28 авг 14:50  28 авг 14:51   \n",
       " 23       ▲14:00▼15:00  28 авг 14:55  28 авг 14:55   \n",
       " 24              15:00  28 авг 15:00  28 авг 15:13   \n",
       " 25       ▲15:00▼16:00  28 авг 15:00  28 авг 15:13   \n",
       " 26       ▲15:00▼16:00  28 авг 15:00  28 авг 15:12   \n",
       " 27       ▲15:00▼16:00  28 авг 15:05           NaN   \n",
       " 28       ▲15:00▼16:00  28 авг 15:10           NaN   \n",
       " 29       ▲15:00▼16:00  28 авг 15:10  28 авг 15:01   \n",
       " 30       ▲15:00▼16:00  28 авг 15:15           NaN   \n",
       " 31       ▲15:00▼16:00  28 авг 15:25           NaN   \n",
       " 32       ▲15:00▼16:00  28 авг 15:30           NaN   \n",
       " 33       ▲15:00▼16:00  28 авг 15:35           NaN   \n",
       " 34       ▲15:00▼16:00  28 авг 15:45           NaN   \n",
       " 35       ▲15:00▼16:00  28 авг 15:45  28 авг 15:24   \n",
       " 36       ▲15:00▼16:00  28 авг 15:50  28 авг 15:28   \n",
       " 37              16:00  28 авг 16:00           NaN   \n",
       " 38       ▲16:00▼16:00  28 авг 16:10           NaN   \n",
       " 39       ▲16:00▼16:00  28 авг 16:15           NaN   \n",
       " 40       ▲16:00▼16:00  28 авг 16:15           NaN   \n",
       " 41       ▲16:00▼16:00  28 авг 16:15           NaN   \n",
       " 42       ▲16:00▼16:00  28 авг 16:20           NaN   \n",
       " 43       ▲16:00▼16:00  28 авг 16:20           NaN   \n",
       " 44       ▲16:00▼16:00  28 авг 16:25           NaN   \n",
       " 45       ▲16:00▼16:00  28 авг 16:25           NaN   \n",
       " 46       ▲16:00▼16:00  28 авг 16:30           NaN   \n",
       " 47       ▲16:00▼16:00  28 авг 16:30           NaN   \n",
       " 48       ▲16:00▼16:00  28 авг 16:30           NaN   \n",
       " 49       ▲16:00▼16:00  28 авг 16:35           NaN   \n",
       " \n",
       "                                               № Рейса Аэропорт отправления  \\\n",
       "                                               № Рейса Аэропорт отправления   \n",
       " 0                                             S7 2004          СИМФЕРОПОЛЬ   \n",
       " 1                                         S7 78 GH 78          КАЛИНИНГРАД   \n",
       " 2                                       GH 272 S7 272          СИМФЕРОПОЛЬ   \n",
       " 3                                              G9 955               ШАРДЖА   \n",
       " 4   S7 1164 B2 164 SQ 1978 QR 5779 GH 1164 EK 7924...            ВОЛГОГРАД   \n",
       " 5   S7 1148 JL 7190 EK 7846 RJ 3460 QR 5761 GH 114...            КРАСНОДАР   \n",
       " 6                                              YC 515          СИМФЕРОПОЛЬ   \n",
       " 7                     S7 1126 QR 5769 GH 1126 S7 7804                АНАПА   \n",
       " 8                                              OS 601                 ВЕНА   \n",
       " 9                                              PC 388              СТАМБУЛ   \n",
       " 10                             EK 133 S7 4164 QF 8133                ДУБАЙ   \n",
       " 11                                            KK 1502              СТАМБУЛ   \n",
       " 12                             B2 951 S7 4528 U6 4951                МИНСК   \n",
       " 13                                      S7 126 GH 126         БЛАГОВЕЩЕНСК   \n",
       " 14  S7 46 QR 5743 A3 3522 EK 7874 GH 46 RJ 3452 YM...      САНКТ-ПЕТЕРБУРГ   \n",
       " 15                                             U6 448                 СОЧИ   \n",
       " 16  S7 302 JL 7182 GH 302 A3 3540 QR 5721 LY 8984 ...                ПЕРМЬ   \n",
       " 17                                    S7 1068 GH 1068               КАЗАНЬ   \n",
       " 18                                     BA 233 S7 4000               ЛОНДОН   \n",
       " 19                                            IB 3188               МАДРИД   \n",
       " 20                                            Y7 1052                АНАПА   \n",
       " 21                                             6R 529          НОВОСИБИРСК   \n",
       " 22                                             Y7 112             НОРИЛЬСК   \n",
       " 23                                            5N 9302              ДАЛАМАН   \n",
       " 24                                     JL 421 S7 4122                ТОКИО   \n",
       " 25                                      GH 164 S7 164          СИМФЕРОПОЛЬ   \n",
       " 26                                             U6 372          КАЛИНИНГРАД   \n",
       " 27                                             U6 444                АНАПА   \n",
       " 28                                             5N 546                АНАПА   \n",
       " 29                                            LH 2528               МЮНХЕН   \n",
       " 30  GH 1046 JL 7178 EK 7812 SQ 1968 S7 1046 LY 894...                 СОЧИ   \n",
       " 31                                      GH 112 S7 112               МИРНЫЙ   \n",
       " 32                                     9U 171 S7 4538              КИШИНЕВ   \n",
       " 33                                            WZ 5016              АНТАЛЬЯ   \n",
       " 34                                             U6 280                 СОЧИ   \n",
       " 35                                     5N 254 WZ 5254          КАЛИНИНГРАД   \n",
       " 36  GH 182 S7 182 BA 8810 A3 3577 QR 5753 LY 8982 ...          НОВОСИБИРСК   \n",
       " 37                                              U6 60      САНКТ-ПЕТЕРБУРГ   \n",
       " 38              GH 882 SQ 1964 QR 5681 EK 7956 S7 882          ВЛАДИКАВКАЗ   \n",
       " 39                                  S7 6 EK 7821 GH 6      НИЖНИЙ НОВГОРОД   \n",
       " 40                                             WZ 258            КРАСНОДАР   \n",
       " 41                      S7 226 EK 7911 GH 226 YC 4226             БЕЛГОРОД   \n",
       " 42                                    S7 1070 GH 1070               КАЗАНЬ   \n",
       " 43                                     5N 554 WZ 5554          СИМФЕРОПОЛЬ   \n",
       " 44                                      S7 208 GH 208              САРАТОВ   \n",
       " 45                                            U6 2832          СИМФЕРОПОЛЬ   \n",
       " 46                              GH 932 S7 932 YM 4612                ТИВАТ   \n",
       " 47                                             U6 300         БЛАГОВЕЩЕНСК   \n",
       " 48                                             U6 116            ГЕЛЕНДЖИК   \n",
       " 49                                             6R 640     МИНЕРАЛЬНЫЕ ВОДЫ   \n",
       " \n",
       "                                                Статус Напомнить В избранное  \n",
       "                                                Статус Напомнить В избранное  \n",
       " 0   ПрибылВыдача багажа окончена  Прибыл  Выдача б...       NaN         NaN  \n",
       " 1   ПрибылВыдача багажа окончена  Прибыл  Выдача б...       NaN         NaN  \n",
       " 2   ПрибылВыдача багажа окончена  Прибыл  Выдача б...       NaN         NaN  \n",
       " 3   ПрибылВыдача багажа окончена  Прибыл  Выдача б...       NaN         NaN  \n",
       " 4   ПрибылВыдача багажа окончена  Прибыл  Выдача б...       NaN         NaN  \n",
       " 5   ПрибылВыдача багажа окончена  Прибыл  Выдача б...       NaN         NaN  \n",
       " 6   ПрибылВыдача багажа окончена  Прибыл  Выдача б...       NaN         NaN  \n",
       " 7   ПрибылВыдача багажа окончена  Прибыл  Выдача б...       NaN         NaN  \n",
       " 8   ПрибылВыдача багажа окончена  Прибыл  Выдача б...       NaN         NaN  \n",
       " 9   ПрибылВыдача багажа окончена  Прибыл  Выдача б...       NaN         NaN  \n",
       " 10  ПрибылВыдача багажа окончена  Прибыл  Выдача б...       NaN         NaN  \n",
       " 11  ПрибылВыдача багажа окончена  Прибыл  Выдача б...       NaN         NaN  \n",
       " 12  ПрибылВыдача багажа на ленте 1  Прибыл  Выдача...       NaN         NaN  \n",
       " 13  ПрибылВыдача багажа окончена  Прибыл  Выдача б...       NaN         NaN  \n",
       " 14  ПрибылВыдача багажа окончена  Прибыл  Выдача б...       NaN         NaN  \n",
       " 15  ПрибылВыдача багажа окончена  Прибыл  Выдача б...       NaN         NaN  \n",
       " 16  ПрибылВыдача багажа окончена  Прибыл  Выдача б...       NaN         NaN  \n",
       " 17  ПрибылВыдача багажа окончена  Прибыл  Выдача б...       NaN         NaN  \n",
       " 18  ПрибылВыдача багажа заканчивается  Прибыл  Выд...       NaN         NaN  \n",
       " 19  ПрибылВыдача багажа окончена  Прибыл  Выдача б...       NaN         NaN  \n",
       " 20               Ожидается в 16:26  Ожидается в 16:26       NaN         NaN  \n",
       " 21  ПрибылОжидается выдача багажа на ленте 8  Приб...       NaN         NaN  \n",
       " 22  ПрибылВыдача багажа окончена  Прибыл  Выдача б...       NaN         NaN  \n",
       " 23  ПрибылВыдача багажа заканчивается  Прибыл  Выд...       NaN         NaN  \n",
       " 24  ПрибылВыдача багажа на ленте 4  Прибыл  Выдача...       NaN         NaN  \n",
       " 25  ПрибылОжидается выдача багажа на ленте 7  Приб...       NaN         NaN  \n",
       " 26  ПрибылВыдача багажа на ленте 5  Прибыл  Выдача...       NaN         NaN  \n",
       " 27               Ожидается в 17:10  Ожидается в 17:10       NaN         NaN  \n",
       " 28               Ожидается в 19:10  Ожидается в 19:10       NaN         NaN  \n",
       " 29  ПрибылВыдача багажа заканчивается  Прибыл  Выд...       NaN         NaN  \n",
       " 30               Ожидается в 16:10  Ожидается в 16:10       NaN         NaN  \n",
       " 31               Ожидается в 16:11  Ожидается в 16:11       NaN         NaN  \n",
       " 32               Ожидается в 15:45  Ожидается в 15:45       NaN         NaN  \n",
       " 33               Ожидается в 15:27  Ожидается в 15:27       NaN         NaN  \n",
       " 34               Ожидается в 15:34  Ожидается в 15:34       NaN         NaN  \n",
       " 35                                     Прибыл  Прибыл       NaN         NaN  \n",
       " 36                           Приземлился  Приземлился       NaN         NaN  \n",
       " 37               Ожидается в 15:46  Ожидается в 15:46       NaN         NaN  \n",
       " 38               Ожидается в 17:27  Ожидается в 17:27       NaN         NaN  \n",
       " 39                                     В пути  В пути       NaN         NaN  \n",
       " 40               Ожидается в 16:40  Ожидается в 16:40       NaN         NaN  \n",
       " 41               Ожидается в 15:50  Ожидается в 15:50       NaN         NaN  \n",
       " 42               Ожидается в 16:40  Ожидается в 16:40       NaN         NaN  \n",
       " 43               Ожидается в 15:46  Ожидается в 15:46       NaN         NaN  \n",
       " 44               Ожидается в 15:52  Ожидается в 15:52       NaN         NaN  \n",
       " 45               Ожидается в 16:40  Ожидается в 16:40       NaN         NaN  \n",
       " 46                                     В пути  В пути       NaN         NaN  \n",
       " 47               Ожидается в 16:11  Ожидается в 16:11       NaN         NaN  \n",
       " 48               Ожидается в 18:10  Ожидается в 18:10       NaN         NaN  \n",
       " 49                                     В пути  В пути       NaN         NaN  ]"
      ]
     },
     "execution_count": 104,
     "metadata": {},
     "output_type": "execute_result"
    }
   ],
   "source": [
    "pd.read_html('https://www.dme.ru/flight/live-board/')"
   ]
  },
  {
   "cell_type": "raw",
   "metadata": {},
   "source": []
  },
  {
   "cell_type": "code",
   "execution_count": null,
   "metadata": {},
   "outputs": [],
   "source": []
  },
  {
   "cell_type": "code",
   "execution_count": null,
   "metadata": {},
   "outputs": [],
   "source": []
  },
  {
   "cell_type": "code",
   "execution_count": null,
   "metadata": {},
   "outputs": [],
   "source": []
  },
  {
   "cell_type": "code",
   "execution_count": null,
   "metadata": {},
   "outputs": [],
   "source": []
  },
  {
   "cell_type": "code",
   "execution_count": null,
   "metadata": {},
   "outputs": [],
   "source": []
  },
  {
   "cell_type": "code",
   "execution_count": null,
   "metadata": {},
   "outputs": [],
   "source": []
  }
 ],
 "metadata": {
  "kernelspec": {
   "display_name": "Python 3",
   "language": "python",
   "name": "python3"
  },
  "language_info": {
   "codemirror_mode": {
    "name": "ipython",
    "version": 3
   },
   "file_extension": ".py",
   "mimetype": "text/x-python",
   "name": "python",
   "nbconvert_exporter": "python",
   "pygments_lexer": "ipython3",
   "version": "3.7.3"
  }
 },
 "nbformat": 4,
 "nbformat_minor": 2
}
