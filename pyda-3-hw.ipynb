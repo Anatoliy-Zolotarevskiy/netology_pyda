{
 "cells": [
  {
   "cell_type": "markdown",
   "metadata": {},
   "source": [
    "## Задание 1"
   ]
  },
  {
   "cell_type": "markdown",
   "metadata": {},
   "source": [
    "Дан список вида:"
   ]
  },
  {
   "cell_type": "code",
   "execution_count": 10,
   "metadata": {},
   "outputs": [
    {
     "data": {
      "text/plain": [
       "<function __main__.sum_diag(data)>"
      ]
     },
     "execution_count": 10,
     "metadata": {},
     "output_type": "execute_result"
    }
   ],
   "source": [
    "data = [\n",
    "    [13, 25, 23, 34],\n",
    "    [45, 32, 44, 47],\n",
    "    [12, 33, 23, 95],\n",
    "    [13, 53, 34, 35]\n",
    "]\n"
   ]
  },
  {
   "cell_type": "markdown",
   "metadata": {},
   "source": [
    "Напишите функцию, которая возвращает сумму элементов на диагонали. Т. е. 13+32+23+35.\n"
   ]
  },
  {
   "cell_type": "code",
   "execution_count": 18,
   "metadata": {},
   "outputs": [
    {
     "data": {
      "text/plain": [
       "103"
      ]
     },
     "execution_count": 18,
     "metadata": {},
     "output_type": "execute_result"
    }
   ],
   "source": [
    "def sum_diag (argument):\n",
    "    j=0\n",
    "    result=0\n",
    "    for i in argument:\n",
    "        result=result+i[j]\n",
    "        j=j+1\n",
    "    return result\n",
    "\n",
    "sum_diag(data)\n"
   ]
  },
  {
   "cell_type": "markdown",
   "metadata": {},
   "source": [
    "## Задание 2"
   ]
  },
  {
   "cell_type": "markdown",
   "metadata": {},
   "source": [
    "Дан список чисел, часть из которых имеют строковый тип или содержат буквы. Напишите функцию, которая возвращает сумму квадратов элементов, которые могут быть числами."
   ]
  },
  {
   "cell_type": "code",
   "execution_count": 151,
   "metadata": {},
   "outputs": [],
   "source": [
    "data = [1, '5', 'abc', 20, '2']\n",
    "\n",
    "def sum_g(argument):\n",
    "    result=0\n",
    "    for i in data: \n",
    "        if type(i)==int:\n",
    "            result=result+(i*i)\n",
    "        elif i.isdigit()==True:\n",
    "            result=result+(int(i)*int(i)) \n",
    "    return result\n"
   ]
  },
  {
   "cell_type": "code",
   "execution_count": 152,
   "metadata": {},
   "outputs": [
    {
     "data": {
      "text/plain": [
       "430"
      ]
     },
     "execution_count": 152,
     "metadata": {},
     "output_type": "execute_result"
    }
   ],
   "source": [
    "sum_g(data)"
   ]
  },
  {
   "cell_type": "markdown",
   "metadata": {},
   "source": [
    "## Задание 3"
   ]
  },
  {
   "cell_type": "markdown",
   "metadata": {},
   "source": [
    "Напишите функцию, возвращающую сумму первых n чисел Фибоначчи."
   ]
  },
  {
   "cell_type": "code",
   "execution_count": 70,
   "metadata": {},
   "outputs": [],
   "source": [
    "def fibonacci(n):\n",
    "    if n in (1, 2):\n",
    "        return 1\n",
    "    return fibonacci(n-1) + fibonacci(n-2)\n",
    "    \n",
    "\n",
    "#красивая рекурсия находим число в ряду\n"
   ]
  },
  {
   "cell_type": "code",
   "execution_count": 72,
   "metadata": {},
   "outputs": [
    {
     "name": "stdout",
     "output_type": "stream",
     "text": [
      "55\n"
     ]
    }
   ],
   "source": [
    "print(fibonacci(10)) "
   ]
  },
  {
   "cell_type": "code",
   "execution_count": 131,
   "metadata": {},
   "outputs": [],
   "source": [
    "M=[0, 1]\n",
    "def fib(n):\n",
    "    for i in range(2, n):\n",
    "        M.append(M[i-1] +M[i-2])\n",
    "    return sum(M)\n",
    "\n",
    "# сумма чисел"
   ]
  },
  {
   "cell_type": "code",
   "execution_count": 132,
   "metadata": {},
   "outputs": [
    {
     "data": {
      "text/plain": [
       "88"
      ]
     },
     "execution_count": 132,
     "metadata": {},
     "output_type": "execute_result"
    }
   ],
   "source": [
    "fib(10)"
   ]
  },
  {
   "cell_type": "markdown",
   "metadata": {},
   "source": [
    "## Задание 4"
   ]
  },
  {
   "cell_type": "markdown",
   "metadata": {},
   "source": [
    "Дан набор данных об обучении студентов на курсе программирования, который содержит: \n",
    "1) имя\n",
    "2) фамилию \n",
    "3) пол \n",
    "4) наличие у студента опыта в программировании \n",
    "5) набор оценок за домашние работы \n",
    "6) оценку за итоговую работу.\n",
    "\n",
    "Напишите программу, которая будет принимать команду от пользователя и возвращать соотвествующий результат.\n",
    "Список команд: \n",
    "1 - вывести на экран среднюю оценку за все ДЗ по группе и вывести на экран среднюю оценку за экзамен по группе;\n",
    "2 - вывести среднюю оценку за ДЗ и за экзамен по группе в разрезе пола студентов\n",
    "3 - вывести среднюю оценку за ДЗ и за экзамен в разрезе наличия опыта в программировании у студентов.\n",
    "\n",
    "Прогрмма должна быть полностью декомпозирована на функции (кроме объявления функций и вызова итоговой функции в реализации ничего быть не должно)."
   ]
  },
  {
   "cell_type": "code",
   "execution_count": 1,
   "metadata": {},
   "outputs": [],
   "source": [
    "students_list = [\n",
    "    {'name': 'Василий', 'surname': 'Теркин', 'sex': 'м', 'program_exp': True, 'grade': [8, 8, 9, 10, 9], 'exam': 9},\n",
    "    {'name': 'Мария', 'surname': 'Павлова', 'sex': 'ж', 'program_exp': True, 'grade': [7, 8, 9, 7, 9], 'exam': 8},\n",
    "    {'name': 'Ирина', 'surname': 'Андреева', 'sex': 'ж', 'program_exp': True, 'grade': [10, 9, 8, 10, 10], 'exam': 10},\n",
    "    {'name': 'Татьяна', 'surname': 'Сидорова', 'sex': 'ж', 'program_exp': True, 'grade': [7, 8, 8, 9, 8], 'exam': 8},\n",
    "    {'name': 'Иван', 'surname': 'Васильев', 'sex': 'ж', 'program_exp': True, 'grade': [9, 8, 9, 6, 9], 'exam': 10},\n",
    "    {'name': 'Роман', 'surname': 'Золотарев', 'sex': 'ж', 'program_exp': False, 'grade': [8, 9, 9, 6, 9], 'exam': 10}\n",
    "]\n"
   ]
  },
  {
   "cell_type": "code",
   "execution_count": 117,
   "metadata": {},
   "outputs": [],
   "source": [
    "\n",
    "def in_comand(arg):\n",
    "    print('1 - вывести на экран среднюю оценку за все ДЗ по группе и вывести на экран среднюю оценку за экзамен по группе')\n",
    "    print('2 - вывести среднюю оценку за ДЗ и за экзамен по группе в разрезе пола студентов') \n",
    "    print('3 - вывести среднюю оценку за ДЗ и за экзамен в разрезе наличия опыта в программировании у студентов')\n",
    "    com=int(input('введите команду от 1 до 3: '))\n",
    "    if com==1:\n",
    "        resalt=avr_data(arg)\n",
    "    elif com==2:\n",
    "        resalt=avr_data_sex(arg)\n",
    "    elif com==3:\n",
    "        resalt=avr_data_exp(arg)\n",
    "    return resalt\n",
    "        \n",
    "def avr_data(arg):\n",
    "    exam_sum=0\n",
    "    grade_sum=0\n",
    "    for student in arg:\n",
    "        exam_sum=exam_sum+list(student.values())[5]\n",
    "        for i in list(student.values())[4]:\n",
    "            grade_sum=grade_sum+i\n",
    "    avr_grade_sum=(grade_sum/5)/len(arg)\n",
    "    avr_exam_sum=exam_sum/len(arg)\n",
    "    return  f\"средняя оценка за все ДЗ по группе:  {str(round(avr_grade_sum,2))} \"\\\n",
    "            f\"средняя оценка за экзамен по группе: {str(round(avr_exam_sum,2))}  \"\n",
    "\n",
    "def avr_data_sex(arg):\n",
    "    exam_sum_m=0\n",
    "    exam_sum_f=0\n",
    "    grade_sum_m=0\n",
    "    grade_sum_f=0\n",
    "    j=0\n",
    "    for student in arg:\n",
    "        if list(student.values())[2]=='м':\n",
    "            exam_sum_m=exam_sum_m+list(student.values())[5]\n",
    "            j=j+1\n",
    "        for i in list(student.values())[4]:\n",
    "                    grade_sum_m=grade_sum_m+i\n",
    "        else: exam_sum_f=exam_sum_f+list(student.values())[5]\n",
    "        for i in list(student.values())[4]:\n",
    "                    grade_sum_f=grade_sum_f+i\n",
    "    avr_grade_sum_m=(grade_sum_m/5)/j\n",
    "    avr_grade_sum_f=(grade_sum_f/5)/(len(arg)-j)\n",
    "    avr_exam_sum_m=exam_sum_m/j\n",
    "    avr_exam_sum_f=exam_sum_f/(len(arg)-j)\n",
    "    return  f\"средняя оценка за все ДЗ по группе, женщины:  {str(round(avr_grade_sum_m,2))} \"\\\n",
    "            f\"средняя оценка за экзамен по группе, мужчины: {str(round(avr_exam_sum_m,2))}  \"\\\n",
    "            f\"средняя оценка за все ДЗ по группе, мужчины:  {str(round(avr_grade_sum_f,2))} \"\\\n",
    "            f\"средняя оценка за экзамен по группе, женщины: {str(round(avr_exam_sum_f,2))}  \"\n",
    "\n",
    "def avr_data_exp(arg):\n",
    "    exam_sum_exp=0\n",
    "    exam_sum_not=0\n",
    "    grade_sum_exp=0\n",
    "    grade_sum_not=0\n",
    "    j=0\n",
    "    for student in arg:\n",
    "        if list(student.values())[3]==True:\n",
    "            exam_sum_exp=exam_sum_exp+list(student.values())[5]\n",
    "            j=j+1\n",
    "        for i in list(student.values())[4]:\n",
    "                    grade_sum_exp=grade_sum_exp+i\n",
    "        else: exam_sum_not=exam_sum_not+list(student.values())[5]\n",
    "        for i in list(student.values())[4]:\n",
    "                    grade_sum_not=grade_sum_not+i\n",
    "    avr_grade_sum_exp=(grade_sum_exp/5)/j\n",
    "    avr_grade_sum_not=(grade_sum_not/5)/(len(arg)-j)\n",
    "    avr_exam_sum_exp=exam_sum_exp/j\n",
    "    avr_exam_sum_not=exam_sum_not/(len(arg)-j)\n",
    "    return  f\"средняя оценка за все ДЗ по группе, эксперты:  {str(round(avr_grade_sum_exp,2))} \" \\\n",
    "            f\"средняя оценка за экзамен по группе, эксперты: {str(round(avr_exam_sum_exp,2))}  \" \\\n",
    "            f\"средняя оценка за все ДЗ по группе, новички:   {str(round(avr_grade_sum_not,2))} \" \\\n",
    "            f\"средняя оценка за экзамен по группе, новички:  {str(round(avr_exam_sum_not,2))}  \"     "
   ]
  },
  {
   "cell_type": "code",
   "execution_count": 118,
   "metadata": {},
   "outputs": [
    {
     "name": "stdout",
     "output_type": "stream",
     "text": [
      "1 - вывести на экран среднюю оценку за все ДЗ по группе и вывести на экран среднюю оценку за экзамен по группе\n",
      "2 - вывести среднюю оценку за ДЗ и за экзамен по группе в разрезе пола студентов\n",
      "3 - вывести среднюю оценку за ДЗ и за экзамен в разрезе наличия опыта в программировании у студентов\n",
      "введите команду от 1 до 3: 2\n"
     ]
    },
    {
     "data": {
      "text/plain": [
       "'средняя оценка за все ДЗ по группе, женщины:  50.6 средняя оценка за экзамен по группе, мужчины: 9.0  средняя оценка за все ДЗ по группе, мужчины:  10.12 средняя оценка за экзамен по группе, женщины: 11.0  '"
      ]
     },
     "execution_count": 118,
     "metadata": {},
     "output_type": "execute_result"
    }
   ],
   "source": [
    "in_comand(students_list)"
   ]
  },
  {
   "cell_type": "code",
   "execution_count": null,
   "metadata": {},
   "outputs": [],
   "source": [
    "# в четвертом задании так и не понял как выводить результат  с разрывом строки ... Долго бился)))"
   ]
  }
 ],
 "metadata": {
  "kernelspec": {
   "display_name": "Python 3",
   "language": "python",
   "name": "python3"
  },
  "language_info": {
   "codemirror_mode": {
    "name": "ipython",
    "version": 3
   },
   "file_extension": ".py",
   "mimetype": "text/x-python",
   "name": "python",
   "nbconvert_exporter": "python",
   "pygments_lexer": "ipython3",
   "version": "3.7.3"
  }
 },
 "nbformat": 4,
 "nbformat_minor": 2
}
